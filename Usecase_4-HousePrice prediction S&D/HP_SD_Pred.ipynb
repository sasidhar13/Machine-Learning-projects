{
  "nbformat": 4,
  "nbformat_minor": 0,
  "metadata": {
    "colab": {
      "name": "HP_SD_Pred.ipynb",
      "provenance": []
    },
    "kernelspec": {
      "name": "python3",
      "display_name": "Python 3"
    },
    "language_info": {
      "name": "python"
    }
  },
  "cells": [
    {
      "cell_type": "code",
      "metadata": {
        "id": "p-rP46e96K3y"
      },
      "source": [
        "import pandas as pd\n",
        "import numpy as np"
      ],
      "execution_count": 9,
      "outputs": []
    },
    {
      "cell_type": "code",
      "metadata": {
        "id": "GTYYkrCEZ97o"
      },
      "source": [
        "house_predict=pd.read_csv('HPP.csv')"
      ],
      "execution_count": 10,
      "outputs": []
    },
    {
      "cell_type": "code",
      "metadata": {
        "colab": {
          "base_uri": "https://localhost:8080/",
          "height": 301
        },
        "id": "IR0qT8bNaDhg",
        "outputId": "0673fc3c-09ee-45f8-c29d-9902e98f86e2"
      },
      "source": [
        "house_predict.head(5)"
      ],
      "execution_count": 11,
      "outputs": [
        {
          "output_type": "execute_result",
          "data": {
            "text/html": [
              "<div>\n",
              "<style scoped>\n",
              "    .dataframe tbody tr th:only-of-type {\n",
              "        vertical-align: middle;\n",
              "    }\n",
              "\n",
              "    .dataframe tbody tr th {\n",
              "        vertical-align: top;\n",
              "    }\n",
              "\n",
              "    .dataframe thead th {\n",
              "        text-align: right;\n",
              "    }\n",
              "</style>\n",
              "<table border=\"1\" class=\"dataframe\">\n",
              "  <thead>\n",
              "    <tr style=\"text-align: right;\">\n",
              "      <th></th>\n",
              "      <th>DATE</th>\n",
              "      <th>InsuranceRate_pc</th>\n",
              "      <th>Mortgage_rates</th>\n",
              "      <th>Income_rates_pc</th>\n",
              "      <th>House_supply</th>\n",
              "      <th>Rental_rates</th>\n",
              "      <th>Emp_Pop_ratio</th>\n",
              "      <th>Fuel_Price_Index</th>\n",
              "      <th>Bussiness_inventory_lvls</th>\n",
              "      <th>House_price_index_SP</th>\n",
              "      <th>House_price_inMIL</th>\n",
              "    </tr>\n",
              "  </thead>\n",
              "  <tbody>\n",
              "    <tr>\n",
              "      <th>0</th>\n",
              "      <td>2000-01-01</td>\n",
              "      <td>-2.10537</td>\n",
              "      <td>8.256923</td>\n",
              "      <td>29.41176</td>\n",
              "      <td>0.78125</td>\n",
              "      <td>7.9</td>\n",
              "      <td>64.600000</td>\n",
              "      <td>18.90618</td>\n",
              "      <td>0.400000</td>\n",
              "      <td>100.679000</td>\n",
              "      <td>165300.0</td>\n",
              "    </tr>\n",
              "    <tr>\n",
              "      <th>1</th>\n",
              "      <td>2000-04-01</td>\n",
              "      <td>-0.83746</td>\n",
              "      <td>8.316154</td>\n",
              "      <td>20.45455</td>\n",
              "      <td>5.42636</td>\n",
              "      <td>8.0</td>\n",
              "      <td>64.533333</td>\n",
              "      <td>0.15860</td>\n",
              "      <td>0.700000</td>\n",
              "      <td>103.698333</td>\n",
              "      <td>163200.0</td>\n",
              "    </tr>\n",
              "    <tr>\n",
              "      <th>2</th>\n",
              "      <td>2000-07-01</td>\n",
              "      <td>10.51417</td>\n",
              "      <td>8.020000</td>\n",
              "      <td>9.43396</td>\n",
              "      <td>-8.08824</td>\n",
              "      <td>8.2</td>\n",
              "      <td>64.200000</td>\n",
              "      <td>15.75614</td>\n",
              "      <td>0.266667</td>\n",
              "      <td>106.458667</td>\n",
              "      <td>168800.0</td>\n",
              "    </tr>\n",
              "    <tr>\n",
              "      <th>3</th>\n",
              "      <td>2000-10-01</td>\n",
              "      <td>3.28275</td>\n",
              "      <td>7.620769</td>\n",
              "      <td>-20.68966</td>\n",
              "      <td>-5.60000</td>\n",
              "      <td>7.8</td>\n",
              "      <td>64.300000</td>\n",
              "      <td>10.12312</td>\n",
              "      <td>0.333333</td>\n",
              "      <td>108.268333</td>\n",
              "      <td>172900.0</td>\n",
              "    </tr>\n",
              "    <tr>\n",
              "      <th>4</th>\n",
              "      <td>2001-01-01</td>\n",
              "      <td>-0.67598</td>\n",
              "      <td>7.006923</td>\n",
              "      <td>-21.73913</td>\n",
              "      <td>-4.23729</td>\n",
              "      <td>8.2</td>\n",
              "      <td>64.333333</td>\n",
              "      <td>-15.34161</td>\n",
              "      <td>-0.266667</td>\n",
              "      <td>109.750000</td>\n",
              "      <td>169800.0</td>\n",
              "    </tr>\n",
              "  </tbody>\n",
              "</table>\n",
              "</div>"
            ],
            "text/plain": [
              "         DATE  InsuranceRate_pc  ...  House_price_index_SP  House_price_inMIL\n",
              "0  2000-01-01          -2.10537  ...            100.679000           165300.0\n",
              "1  2000-04-01          -0.83746  ...            103.698333           163200.0\n",
              "2  2000-07-01          10.51417  ...            106.458667           168800.0\n",
              "3  2000-10-01           3.28275  ...            108.268333           172900.0\n",
              "4  2001-01-01          -0.67598  ...            109.750000           169800.0\n",
              "\n",
              "[5 rows x 11 columns]"
            ]
          },
          "metadata": {
            "tags": []
          },
          "execution_count": 11
        }
      ]
    },
    {
      "cell_type": "code",
      "metadata": {
        "colab": {
          "base_uri": "https://localhost:8080/"
        },
        "id": "ZsbNMJBsajtf",
        "outputId": "d72aaecc-b173-4054-cd2f-2b883c8a0d89"
      },
      "source": [
        "house_predict.info()"
      ],
      "execution_count": 12,
      "outputs": [
        {
          "output_type": "stream",
          "text": [
            "<class 'pandas.core.frame.DataFrame'>\n",
            "RangeIndex: 81 entries, 0 to 80\n",
            "Data columns (total 11 columns):\n",
            " #   Column                    Non-Null Count  Dtype  \n",
            "---  ------                    --------------  -----  \n",
            " 0   DATE                      81 non-null     object \n",
            " 1   InsuranceRate_pc          81 non-null     float64\n",
            " 2   Mortgage_rates            81 non-null     float64\n",
            " 3   Income_rates_pc           81 non-null     float64\n",
            " 4   House_supply              81 non-null     float64\n",
            " 5   Rental_rates              81 non-null     float64\n",
            " 6   Emp_Pop_ratio             81 non-null     float64\n",
            " 7   Fuel_Price_Index          81 non-null     float64\n",
            " 8   Bussiness_inventory_lvls  81 non-null     float64\n",
            " 9   House_price_index_SP      81 non-null     float64\n",
            " 10  House_price_inMIL         81 non-null     float64\n",
            "dtypes: float64(10), object(1)\n",
            "memory usage: 7.1+ KB\n"
          ],
          "name": "stdout"
        }
      ]
    },
    {
      "cell_type": "code",
      "metadata": {
        "id": "v3NSECagaomy"
      },
      "source": [
        "import datetime as dt\n",
        "house_predict['DATE'] = pd.to_datetime(house_predict['DATE'])\n",
        "house_predict['DATE']=house_predict['DATE'].map(dt.datetime.toordinal)"
      ],
      "execution_count": 15,
      "outputs": []
    },
    {
      "cell_type": "code",
      "metadata": {
        "colab": {
          "base_uri": "https://localhost:8080/",
          "height": 477
        },
        "id": "Rb0hQnkNfd2I",
        "outputId": "d7060313-69bd-4e4f-f135-4ce21e0146ca"
      },
      "source": [
        "house_predict.info()\n",
        "house_predict.head(3)"
      ],
      "execution_count": 16,
      "outputs": [
        {
          "output_type": "stream",
          "text": [
            "<class 'pandas.core.frame.DataFrame'>\n",
            "RangeIndex: 81 entries, 0 to 80\n",
            "Data columns (total 11 columns):\n",
            " #   Column                    Non-Null Count  Dtype  \n",
            "---  ------                    --------------  -----  \n",
            " 0   DATE                      81 non-null     int64  \n",
            " 1   InsuranceRate_pc          81 non-null     float64\n",
            " 2   Mortgage_rates            81 non-null     float64\n",
            " 3   Income_rates_pc           81 non-null     float64\n",
            " 4   House_supply              81 non-null     float64\n",
            " 5   Rental_rates              81 non-null     float64\n",
            " 6   Emp_Pop_ratio             81 non-null     float64\n",
            " 7   Fuel_Price_Index          81 non-null     float64\n",
            " 8   Bussiness_inventory_lvls  81 non-null     float64\n",
            " 9   House_price_index_SP      81 non-null     float64\n",
            " 10  House_price_inMIL         81 non-null     float64\n",
            "dtypes: float64(10), int64(1)\n",
            "memory usage: 7.1 KB\n"
          ],
          "name": "stdout"
        },
        {
          "output_type": "execute_result",
          "data": {
            "text/html": [
              "<div>\n",
              "<style scoped>\n",
              "    .dataframe tbody tr th:only-of-type {\n",
              "        vertical-align: middle;\n",
              "    }\n",
              "\n",
              "    .dataframe tbody tr th {\n",
              "        vertical-align: top;\n",
              "    }\n",
              "\n",
              "    .dataframe thead th {\n",
              "        text-align: right;\n",
              "    }\n",
              "</style>\n",
              "<table border=\"1\" class=\"dataframe\">\n",
              "  <thead>\n",
              "    <tr style=\"text-align: right;\">\n",
              "      <th></th>\n",
              "      <th>DATE</th>\n",
              "      <th>InsuranceRate_pc</th>\n",
              "      <th>Mortgage_rates</th>\n",
              "      <th>Income_rates_pc</th>\n",
              "      <th>House_supply</th>\n",
              "      <th>Rental_rates</th>\n",
              "      <th>Emp_Pop_ratio</th>\n",
              "      <th>Fuel_Price_Index</th>\n",
              "      <th>Bussiness_inventory_lvls</th>\n",
              "      <th>House_price_index_SP</th>\n",
              "      <th>House_price_inMIL</th>\n",
              "    </tr>\n",
              "  </thead>\n",
              "  <tbody>\n",
              "    <tr>\n",
              "      <th>0</th>\n",
              "      <td>730120</td>\n",
              "      <td>-2.10537</td>\n",
              "      <td>8.256923</td>\n",
              "      <td>29.41176</td>\n",
              "      <td>0.78125</td>\n",
              "      <td>7.9</td>\n",
              "      <td>64.600000</td>\n",
              "      <td>18.90618</td>\n",
              "      <td>0.400000</td>\n",
              "      <td>100.679000</td>\n",
              "      <td>165300.0</td>\n",
              "    </tr>\n",
              "    <tr>\n",
              "      <th>1</th>\n",
              "      <td>730211</td>\n",
              "      <td>-0.83746</td>\n",
              "      <td>8.316154</td>\n",
              "      <td>20.45455</td>\n",
              "      <td>5.42636</td>\n",
              "      <td>8.0</td>\n",
              "      <td>64.533333</td>\n",
              "      <td>0.15860</td>\n",
              "      <td>0.700000</td>\n",
              "      <td>103.698333</td>\n",
              "      <td>163200.0</td>\n",
              "    </tr>\n",
              "    <tr>\n",
              "      <th>2</th>\n",
              "      <td>730302</td>\n",
              "      <td>10.51417</td>\n",
              "      <td>8.020000</td>\n",
              "      <td>9.43396</td>\n",
              "      <td>-8.08824</td>\n",
              "      <td>8.2</td>\n",
              "      <td>64.200000</td>\n",
              "      <td>15.75614</td>\n",
              "      <td>0.266667</td>\n",
              "      <td>106.458667</td>\n",
              "      <td>168800.0</td>\n",
              "    </tr>\n",
              "  </tbody>\n",
              "</table>\n",
              "</div>"
            ],
            "text/plain": [
              "     DATE  InsuranceRate_pc  ...  House_price_index_SP  House_price_inMIL\n",
              "0  730120          -2.10537  ...            100.679000           165300.0\n",
              "1  730211          -0.83746  ...            103.698333           163200.0\n",
              "2  730302          10.51417  ...            106.458667           168800.0\n",
              "\n",
              "[3 rows x 11 columns]"
            ]
          },
          "metadata": {
            "tags": []
          },
          "execution_count": 16
        }
      ]
    },
    {
      "cell_type": "code",
      "metadata": {
        "id": "GKe5LOOkfyPG"
      },
      "source": [
        "X=house_predict.drop(['House_price_inMIL'],axis=1)\n",
        "y=house_predict['House_price_inMIL']"
      ],
      "execution_count": 17,
      "outputs": []
    },
    {
      "cell_type": "code",
      "metadata": {
        "colab": {
          "base_uri": "https://localhost:8080/",
          "height": 127
        },
        "id": "X8eHNDlQhxp1",
        "outputId": "e8757fc2-dc4d-49b0-9e77-ce5bd379f623"
      },
      "source": [
        "X.head(2)\n"
      ],
      "execution_count": 19,
      "outputs": [
        {
          "output_type": "execute_result",
          "data": {
            "text/html": [
              "<div>\n",
              "<style scoped>\n",
              "    .dataframe tbody tr th:only-of-type {\n",
              "        vertical-align: middle;\n",
              "    }\n",
              "\n",
              "    .dataframe tbody tr th {\n",
              "        vertical-align: top;\n",
              "    }\n",
              "\n",
              "    .dataframe thead th {\n",
              "        text-align: right;\n",
              "    }\n",
              "</style>\n",
              "<table border=\"1\" class=\"dataframe\">\n",
              "  <thead>\n",
              "    <tr style=\"text-align: right;\">\n",
              "      <th></th>\n",
              "      <th>DATE</th>\n",
              "      <th>InsuranceRate_pc</th>\n",
              "      <th>Mortgage_rates</th>\n",
              "      <th>Income_rates_pc</th>\n",
              "      <th>House_supply</th>\n",
              "      <th>Rental_rates</th>\n",
              "      <th>Emp_Pop_ratio</th>\n",
              "      <th>Fuel_Price_Index</th>\n",
              "      <th>Bussiness_inventory_lvls</th>\n",
              "      <th>House_price_index_SP</th>\n",
              "    </tr>\n",
              "  </thead>\n",
              "  <tbody>\n",
              "    <tr>\n",
              "      <th>0</th>\n",
              "      <td>730120</td>\n",
              "      <td>-2.10537</td>\n",
              "      <td>8.256923</td>\n",
              "      <td>29.41176</td>\n",
              "      <td>0.78125</td>\n",
              "      <td>7.9</td>\n",
              "      <td>64.600000</td>\n",
              "      <td>18.90618</td>\n",
              "      <td>0.4</td>\n",
              "      <td>100.679000</td>\n",
              "    </tr>\n",
              "    <tr>\n",
              "      <th>1</th>\n",
              "      <td>730211</td>\n",
              "      <td>-0.83746</td>\n",
              "      <td>8.316154</td>\n",
              "      <td>20.45455</td>\n",
              "      <td>5.42636</td>\n",
              "      <td>8.0</td>\n",
              "      <td>64.533333</td>\n",
              "      <td>0.15860</td>\n",
              "      <td>0.7</td>\n",
              "      <td>103.698333</td>\n",
              "    </tr>\n",
              "  </tbody>\n",
              "</table>\n",
              "</div>"
            ],
            "text/plain": [
              "     DATE  InsuranceRate_pc  ...  Bussiness_inventory_lvls  House_price_index_SP\n",
              "0  730120          -2.10537  ...                       0.4            100.679000\n",
              "1  730211          -0.83746  ...                       0.7            103.698333\n",
              "\n",
              "[2 rows x 10 columns]"
            ]
          },
          "metadata": {
            "tags": []
          },
          "execution_count": 19
        }
      ]
    },
    {
      "cell_type": "code",
      "metadata": {
        "colab": {
          "base_uri": "https://localhost:8080/"
        },
        "id": "zmdYkBB9h2Pg",
        "outputId": "fefeaaf0-500c-4e65-c6df-863e6dc99716"
      },
      "source": [
        "y.head(2)"
      ],
      "execution_count": 20,
      "outputs": [
        {
          "output_type": "execute_result",
          "data": {
            "text/plain": [
              "0    165300.0\n",
              "1    163200.0\n",
              "Name: House_price_inMIL, dtype: float64"
            ]
          },
          "metadata": {
            "tags": []
          },
          "execution_count": 20
        }
      ]
    },
    {
      "cell_type": "code",
      "metadata": {
        "id": "eYTenNcFiy7M"
      },
      "source": [
        " from sklearn.model_selection import train_test_split as tts\n",
        "\n",
        " Xtrain, Xtest, ytrain, ytest = tts(X,y,test_size=0.1, random_state=0)"
      ],
      "execution_count": 21,
      "outputs": []
    },
    {
      "cell_type": "code",
      "metadata": {
        "colab": {
          "base_uri": "https://localhost:8080/"
        },
        "id": "pM7wGq79mTEW",
        "outputId": "300b4775-a70b-4264-ca7b-f3220e6bd20e"
      },
      "source": [
        "from sklearn.ensemble import RandomForestRegressor \n",
        "RandF_reg=RandomForestRegressor(n_estimators=100,criterion='mse',random_state=2,n_jobs=-1)\n",
        "RandF_reg.fit(Xtrain,ytrain)"
      ],
      "execution_count": 28,
      "outputs": [
        {
          "output_type": "execute_result",
          "data": {
            "text/plain": [
              "RandomForestRegressor(bootstrap=True, ccp_alpha=0.0, criterion='mse',\n",
              "                      max_depth=None, max_features='auto', max_leaf_nodes=None,\n",
              "                      max_samples=None, min_impurity_decrease=0.0,\n",
              "                      min_impurity_split=None, min_samples_leaf=1,\n",
              "                      min_samples_split=2, min_weight_fraction_leaf=0.0,\n",
              "                      n_estimators=100, n_jobs=-1, oob_score=False,\n",
              "                      random_state=2, verbose=0, warm_start=False)"
            ]
          },
          "metadata": {
            "tags": []
          },
          "execution_count": 28
        }
      ]
    },
    {
      "cell_type": "code",
      "metadata": {
        "id": "JyOpPr4Gma-4"
      },
      "source": [
        "X_train_pred = RandF_reg.predict(Xtrain)\n",
        "X_test_pred = RandF_reg.predict(Xtest)"
      ],
      "execution_count": 29,
      "outputs": []
    },
    {
      "cell_type": "code",
      "metadata": {
        "colab": {
          "base_uri": "https://localhost:8080/"
        },
        "id": "TMUYgy0pmfrs",
        "outputId": "b71fa1cf-a208-44a8-c1ea-004ffef229df"
      },
      "source": [
        "from sklearn import metrics\n",
        "print('R2 train data: %.3f, R2 test data: %.3f' % (metrics.r2_score(ytrain,X_train_pred, ytrain),metrics.r2_score(ytest,X_test_pred, ytest)))"
      ],
      "execution_count": 30,
      "outputs": [
        {
          "output_type": "stream",
          "text": [
            "R2 train data: 0.997, R2 test data: 0.955\n"
          ],
          "name": "stdout"
        }
      ]
    },
    {
      "cell_type": "code",
      "metadata": {
        "colab": {
          "base_uri": "https://localhost:8080/"
        },
        "id": "YqpXKtSKmgj2",
        "outputId": "5ce993ba-f748-4457-c5ef-098da56816b4"
      },
      "source": [
        "mse=metrics.mean_absolute_error(ytest,X_test_pred)\n",
        "print('Mean absolute error:',mse)"
      ],
      "execution_count": 31,
      "outputs": [
        {
          "output_type": "stream",
          "text": [
            "Mean absolute error: 6051.777777777777\n"
          ],
          "name": "stdout"
        }
      ]
    },
    {
      "cell_type": "code",
      "metadata": {
        "colab": {
          "base_uri": "https://localhost:8080/",
          "height": 287
        },
        "id": "2OhMAhuxmvDH",
        "outputId": "b862215a-ab3f-45f4-90b1-9ae97149686c"
      },
      "source": [
        "house_predict_compar = pd.DataFrame({'Actual':ytest,'predicted':X_test_pred})\n",
        "house_predict_compar.head(8)"
      ],
      "execution_count": 32,
      "outputs": [
        {
          "output_type": "execute_result",
          "data": {
            "text/html": [
              "<div>\n",
              "<style scoped>\n",
              "    .dataframe tbody tr th:only-of-type {\n",
              "        vertical-align: middle;\n",
              "    }\n",
              "\n",
              "    .dataframe tbody tr th {\n",
              "        vertical-align: top;\n",
              "    }\n",
              "\n",
              "    .dataframe thead th {\n",
              "        text-align: right;\n",
              "    }\n",
              "</style>\n",
              "<table border=\"1\" class=\"dataframe\">\n",
              "  <thead>\n",
              "    <tr style=\"text-align: right;\">\n",
              "      <th></th>\n",
              "      <th>Actual</th>\n",
              "      <th>predicted</th>\n",
              "    </tr>\n",
              "  </thead>\n",
              "  <tbody>\n",
              "    <tr>\n",
              "      <th>22</th>\n",
              "      <td>236400.0</td>\n",
              "      <td>236461.0</td>\n",
              "    </tr>\n",
              "    <tr>\n",
              "      <th>27</th>\n",
              "      <td>245400.0</td>\n",
              "      <td>241441.0</td>\n",
              "    </tr>\n",
              "    <tr>\n",
              "      <th>61</th>\n",
              "      <td>289100.0</td>\n",
              "      <td>298221.0</td>\n",
              "    </tr>\n",
              "    <tr>\n",
              "      <th>13</th>\n",
              "      <td>191800.0</td>\n",
              "      <td>191006.0</td>\n",
              "    </tr>\n",
              "    <tr>\n",
              "      <th>71</th>\n",
              "      <td>337900.0</td>\n",
              "      <td>317561.0</td>\n",
              "    </tr>\n",
              "    <tr>\n",
              "      <th>74</th>\n",
              "      <td>330900.0</td>\n",
              "      <td>326693.0</td>\n",
              "    </tr>\n",
              "    <tr>\n",
              "      <th>30</th>\n",
              "      <td>241800.0</td>\n",
              "      <td>243744.0</td>\n",
              "    </tr>\n",
              "    <tr>\n",
              "      <th>55</th>\n",
              "      <td>273600.0</td>\n",
              "      <td>269949.0</td>\n",
              "    </tr>\n",
              "  </tbody>\n",
              "</table>\n",
              "</div>"
            ],
            "text/plain": [
              "      Actual  predicted\n",
              "22  236400.0   236461.0\n",
              "27  245400.0   241441.0\n",
              "61  289100.0   298221.0\n",
              "13  191800.0   191006.0\n",
              "71  337900.0   317561.0\n",
              "74  330900.0   326693.0\n",
              "30  241800.0   243744.0\n",
              "55  273600.0   269949.0"
            ]
          },
          "metadata": {
            "tags": []
          },
          "execution_count": 32
        }
      ]
    },
    {
      "cell_type": "code",
      "metadata": {
        "id": "dHy0h8uwm-t-"
      },
      "source": [
        ""
      ],
      "execution_count": null,
      "outputs": []
    }
  ]
}